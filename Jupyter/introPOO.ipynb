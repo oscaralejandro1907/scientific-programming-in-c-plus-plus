{
 "cells": [
  {
   "cell_type": "markdown",
   "metadata": {},
   "source": [
    "# Intro to Classes (POO)"
   ]
  },
  {
   "cell_type": "code",
   "execution_count": 1,
   "metadata": {},
   "outputs": [],
   "source": [
    "#include <iostream> //We will use the namespace std\n",
    "using namespace std; //Avoid specify std::cout every time"
   ]
  },
  {
   "cell_type": "markdown",
   "metadata": {},
   "source": [
    "Primero declaramos la clase con sus variables privadas y su constructor para inicializar las variables y las funciones, luego se pueden ir agregadno más a medida que se necesiten en el camino. \n",
    "\n",
    "OJO: Sólo es declaración"
   ]
  },
  {
   "cell_type": "code",
   "execution_count": 2,
   "metadata": {},
   "outputs": [],
   "source": [
    "class Rectangle{\n",
    "private:\n",
    "    float _length;\n",
    "    float _width;\n",
    "public:\n",
    "    Rectangle(float,float); //Constructor. Declared with the same name of the Class\n",
    "    void calculatePerimeter();\n",
    "    void calculateArea();  \n",
    "}"
   ]
  },
  {
   "cell_type": "markdown",
   "metadata": {},
   "source": [
    "Inicializamos(le damos valor a) las variables privadas de la clase en el constructor"
   ]
  },
  {
   "cell_type": "code",
   "execution_count": 3,
   "metadata": {
    "scrolled": true
   },
   "outputs": [],
   "source": [
    "Rectangle::Rectangle (float l,float w){\n",
    "    _length =l;\n",
    "    _width = w;\n",
    "}"
   ]
  },
  {
   "cell_type": "markdown",
   "metadata": {},
   "source": [
    "Then, the other functions:"
   ]
  },
  {
   "cell_type": "code",
   "execution_count": 4,
   "metadata": {},
   "outputs": [],
   "source": [
    "void Rectangle::calculatePerimeter(){\n",
    "    float perimeter;\n",
    "    perimeter = (2*_length)+(2*_width);\n",
    "    cout<<\"The perimeter is: \"<<perimeter<<endl;\n",
    "}"
   ]
  },
  {
   "cell_type": "code",
   "execution_count": 5,
   "metadata": {},
   "outputs": [],
   "source": [
    "void Rectangle::calculateArea() {\n",
    "    float area;\n",
    "    area = _length*_width;\n",
    "    cout<<\"Area is: \"<<area<<endl;\n",
    "}"
   ]
  },
  {
   "cell_type": "markdown",
   "metadata": {},
   "source": [
    "Ya con las funciones declaradas, pasamos a llamarlas en el main"
   ]
  },
  {
   "cell_type": "code",
   "execution_count": 6,
   "metadata": {},
   "outputs": [],
   "source": [
    "int main(){\n",
    "    \n",
    "    Rectangle robject(2,3);\n",
    "    \n",
    "    robject.calculatePerimeter();\n",
    "    robject.calculateArea();\n",
    "    \n",
    "    return 0;\n",
    "}"
   ]
  }
 ],
 "metadata": {
  "kernelspec": {
   "display_name": "C++11",
   "language": "C++11",
   "name": "xcpp11"
  },
  "language_info": {
   "codemirror_mode": "text/x-c++src",
   "file_extension": ".cpp",
   "mimetype": "text/x-c++src",
   "name": "c++",
   "version": "11"
  }
 },
 "nbformat": 4,
 "nbformat_minor": 4
}

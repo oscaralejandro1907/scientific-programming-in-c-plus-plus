{
 "cells": [
  {
   "cell_type": "code",
   "execution_count": 60,
   "metadata": {},
   "outputs": [],
   "source": [
    "#include <iostream> //We will use the namespace std\n",
    "using namespace std; //Avoid specify std::cout every time"
   ]
  },
  {
   "cell_type": "markdown",
   "metadata": {},
   "source": [
    "# Arrays and Matrix with Pointers"
   ]
  },
  {
   "cell_type": "markdown",
   "metadata": {},
   "source": [
    "### An array"
   ]
  },
  {
   "cell_type": "code",
   "execution_count": 61,
   "metadata": {
    "scrolled": true
   },
   "outputs": [
    {
     "name": "stdout",
     "output_type": "stream",
     "text": [
      "0\n",
      "1\n",
      "2\n",
      "3\n"
     ]
    }
   ],
   "source": [
    "int k=4; //It will be the length of the array\n",
    "\n",
    "int *array;\n",
    "array = new int [k];\n",
    "\n",
    "\n",
    "for (int i=0; i<k;i++){     //Print it. Must be in a \"for\" loop  \n",
    "    array[i] = i;\n",
    "    cout<<array[i]<<endl;\n",
    "}"
   ]
  },
  {
   "cell_type": "markdown",
   "metadata": {},
   "source": [
    "### A matrix"
   ]
  },
  {
   "cell_type": "code",
   "execution_count": 62,
   "metadata": {},
   "outputs": [
    {
     "name": "stdout",
     "output_type": "stream",
     "text": [
      "0 1 2 3 4 5 \n",
      "0 1 2 3 4 5 \n",
      "0 1 2 3 4 5 \n"
     ]
    }
   ],
   "source": [
    "int k=3;\n",
    "int n=6;\n",
    "\n",
    "//Declaring it\n",
    "float **matrix;\n",
    "matrix = new float *[k];\n",
    "for(int i=0;i<k;i++){\n",
    "    matrix[i] = new float[n];\n",
    "}\n",
    "\n",
    " \n",
    "for(int i=0;i<k;i++){    //Print it, in a double \"for\" loop\n",
    "    for(int j=0;j<n;j++){\n",
    "        matrix[i][j] = j;\n",
    "        cout<<matrix[i][j]<<\" \";\n",
    "    }\n",
    "    cout<<endl;\n",
    "}"
   ]
  },
  {
   "cell_type": "markdown",
   "metadata": {},
   "source": [
    "# Structures and Dot & Arrow Operators"
   ]
  },
  {
   "cell_type": "code",
   "execution_count": 63,
   "metadata": {},
   "outputs": [],
   "source": [
    "//Declare a structure\n",
    "struct employee\n",
    "{\n",
    "    char name[16];\n",
    "    int age;\n",
    "} emp  //\"emp\" is later how the structure will be called\n",
    ";"
   ]
  },
  {
   "cell_type": "markdown",
   "metadata": {},
   "source": [
    "El operador dot (.) se aplica al objeto actual, para referenciar al miembro individual \"name\" que pertenece a la estructura \"employee\"."
   ]
  },
  {
   "cell_type": "code",
   "execution_count": 64,
   "metadata": {},
   "outputs": [
    {
     "data": {
      "text/plain": [
       "\"Zara\""
      ]
     },
     "execution_count": 64,
     "metadata": {},
     "output_type": "execute_result"
    }
   ],
   "source": [
    "strcpy(emp.name,\"Zara\");  //La funcion \"strcpy\" copia el string \"Zara\" y lo asigna a \"name\" de la estructura"
   ]
  },
  {
   "cell_type": "markdown",
   "metadata": {},
   "source": [
    "En cambio, si usamos punteros, vamos a utilizar el operador \"arrow\" (->)"
   ]
  },
  {
   "cell_type": "code",
   "execution_count": 65,
   "metadata": {},
   "outputs": [],
   "source": [
    "employee *p_emp = new employee; //Inicializamos el puntero a estructura tipo employee (declarada arriba)"
   ]
  },
  {
   "cell_type": "code",
   "execution_count": 66,
   "metadata": {},
   "outputs": [
    {
     "data": {
      "text/plain": [
       "\"Zara\""
      ]
     },
     "execution_count": 66,
     "metadata": {},
     "output_type": "execute_result"
    }
   ],
   "source": [
    "strcpy(p_emp->name,\"Zara\"); //El uso de \"->\" es el mismo que \".\""
   ]
  },
  {
   "cell_type": "markdown",
   "metadata": {},
   "source": [
    "Other example:"
   ]
  },
  {
   "cell_type": "code",
   "execution_count": 67,
   "metadata": {},
   "outputs": [],
   "source": [
    "struct person{\n",
    "    string name;\n",
    "    int age;\n",
    "}"
   ]
  },
  {
   "cell_type": "code",
   "execution_count": 68,
   "metadata": {},
   "outputs": [],
   "source": [
    "person *bob = new person; //Inicializamos a bob, que com es tipo \"person\", va a tener \"name\" y \"age\"\n",
    "bob -> age =21;"
   ]
  },
  {
   "cell_type": "markdown",
   "metadata": {},
   "source": [
    "# Vectors"
   ]
  },
  {
   "cell_type": "code",
   "execution_count": 69,
   "metadata": {},
   "outputs": [],
   "source": [
    "#include <vector>"
   ]
  },
  {
   "cell_type": "markdown",
   "metadata": {},
   "source": [
    "Ways to declare vectors"
   ]
  },
  {
   "cell_type": "code",
   "execution_count": 70,
   "metadata": {},
   "outputs": [],
   "source": [
    "vector <int> myvec1(10); //A vector of ints with 10 elements\n",
    "vector <int> myvec2; //Just a vector of ints, we can push back all elemets we want later"
   ]
  },
  {
   "cell_type": "code",
   "execution_count": 71,
   "metadata": {},
   "outputs": [],
   "source": [
    "myvec2.push_back(10);\n",
    "myvec2.push_back(2);\n",
    "myvec2.push_back(7);"
   ]
  },
  {
   "cell_type": "markdown",
   "metadata": {},
   "source": [
    "A useful form to print a vector is with \"auto\" function.\n",
    "\n",
    "\"auto\" is used to create iterators for containers avoiding long initializations"
   ]
  },
  {
   "cell_type": "code",
   "execution_count": 72,
   "metadata": {},
   "outputs": [
    {
     "name": "stdout",
     "output_type": "stream",
     "text": [
      "10 2 7 "
     ]
    }
   ],
   "source": [
    "for (auto i:myvec2)\n",
    "    cout << i<<\" \";"
   ]
  },
  {
   "cell_type": "markdown",
   "metadata": {},
   "source": [
    "\"vector.begin( )\" and \"vector.end( )\" return iterator elements pointing to the first and last element of the container."
   ]
  },
  {
   "cell_type": "code",
   "execution_count": 73,
   "metadata": {},
   "outputs": [
    {
     "name": "stdout",
     "output_type": "stream",
     "text": [
      "10 2 7 "
     ]
    }
   ],
   "source": [
    "for (auto i=myvec2.begin(); i!=myvec2.end();i++)\n",
    "    cout<<*i<<\" \";"
   ]
  },
  {
   "cell_type": "markdown",
   "metadata": {},
   "source": [
    "# Classes"
   ]
  },
  {
   "cell_type": "markdown",
   "metadata": {},
   "source": [
    "### Acceder a miembros privados de una clase:"
   ]
  },
  {
   "cell_type": "markdown",
   "metadata": {},
   "source": [
    "Esto se hace con las funciones llamadas \"get\""
   ]
  },
  {
   "cell_type": "code",
   "execution_count": 74,
   "metadata": {},
   "outputs": [],
   "source": [
    "class CDP{\n",
    "private:\n",
    "    int _nnodes;\n",
    "public:\n",
    "    CDP();  //Constructor\n",
    "    ~CDP(); //Destructor\n",
    "    int nnodes() {return _nnodes;} //Esta es la func q funciona como \"get\" la variable privada\n",
    "};"
   ]
  },
  {
   "cell_type": "markdown",
   "metadata": {},
   "source": [
    "# Others"
   ]
  },
  {
   "cell_type": "markdown",
   "metadata": {},
   "source": [
    "sizeof(datatype) se usa para obtener la longitud de clases, estructuras y otros tipos de datos definidos, como por ejemplo:"
   ]
  },
  {
   "cell_type": "code",
   "execution_count": 75,
   "metadata": {},
   "outputs": [
    {
     "name": "stdout",
     "output_type": "stream",
     "text": [
      "6"
     ]
    }
   ],
   "source": [
    "int arr[] = {60,10,80,40,30,20};\n",
    "int n = sizeof(arr) / sizeof(arr[0]);\n",
    "cout<<n;"
   ]
  }
 ],
 "metadata": {
  "kernelspec": {
   "display_name": "C++11",
   "language": "C++11",
   "name": "xcpp11"
  },
  "language_info": {
   "codemirror_mode": "text/x-c++src",
   "file_extension": ".cpp",
   "mimetype": "text/x-c++src",
   "name": "c++",
   "version": "11"
  }
 },
 "nbformat": 4,
 "nbformat_minor": 4
}

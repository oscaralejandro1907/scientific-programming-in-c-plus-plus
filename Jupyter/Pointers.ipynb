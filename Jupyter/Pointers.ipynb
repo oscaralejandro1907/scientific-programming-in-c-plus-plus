{
 "cells": [
  {
   "cell_type": "code",
   "execution_count": 1,
   "metadata": {},
   "outputs": [],
   "source": [
    "#include <iostream> //We will use the namespace std\n",
    "using namespace std; //Avoid specify std::cout every time"
   ]
  },
  {
   "cell_type": "markdown",
   "metadata": {},
   "source": [
    "# Arrays and Matrix with Pointers"
   ]
  },
  {
   "cell_type": "markdown",
   "metadata": {},
   "source": [
    "### An array"
   ]
  },
  {
   "cell_type": "code",
   "execution_count": 6,
   "metadata": {
    "scrolled": true
   },
   "outputs": [
    {
     "name": "stdout",
     "output_type": "stream",
     "text": [
      "0\n",
      "1\n",
      "2\n",
      "3\n"
     ]
    }
   ],
   "source": [
    "int k=4; //It will be the length of the array\n",
    "\n",
    "int *array;\n",
    "array = new int [k];\n",
    "\n",
    "\n",
    "for (int i=0; i<k;i++){     //Print it. Must be in a \"for\" loop  \n",
    "    array[i] = i;\n",
    "    cout<<array[i]<<endl;\n",
    "}"
   ]
  },
  {
   "cell_type": "markdown",
   "metadata": {},
   "source": [
    "### A matrix"
   ]
  },
  {
   "cell_type": "code",
   "execution_count": 26,
   "metadata": {},
   "outputs": [
    {
     "name": "stdout",
     "output_type": "stream",
     "text": [
      "0 1 2 3 4 5 \n",
      "0 1 2 3 4 5 \n",
      "0 1 2 3 4 5 \n"
     ]
    }
   ],
   "source": [
    "int k=3;\n",
    "int n=6;\n",
    "\n",
    "//Declaring it\n",
    "float **matrix;\n",
    "matrix = new float *[k];\n",
    "for(int i=0;i<k;i++){\n",
    "    matrix[i] = new float[n];\n",
    "}\n",
    "\n",
    " \n",
    "for(int i=0;i<k;i++){    //Print it, in a double \"for\" loop\n",
    "    for(int j=0;j<n;j++){\n",
    "        matrix[i][j] = j;\n",
    "        cout<<matrix[i][j]<<\" \";\n",
    "    }\n",
    "    cout<<endl;\n",
    "}"
   ]
  },
  {
   "cell_type": "markdown",
   "metadata": {},
   "source": [
    "Pointer to numbers"
   ]
  },
  {
   "cell_type": "code",
   "execution_count": 2,
   "metadata": {},
   "outputs": [
    {
     "name": "stdout",
     "output_type": "stream",
     "text": [
      "Address: 0x104c17390\n",
      "ssfaf 0x104c17398\n",
      "Integer value via pointer: 8\n"
     ]
    }
   ],
   "source": [
    "int value = 8;\n",
    "\n",
    "int *pointer = &value; //Assign a pointer to an integer called \"value\"\n",
    "    \n",
    "cout << \"Address: \"<<pointer<<endl;\n",
    "cout << \"ssfaf \"<<&pointer<<endl;\n",
    "cout << \"Integer value via pointer: \"<<*pointer<<endl;"
   ]
  },
  {
   "cell_type": "code",
   "execution_count": 5,
   "metadata": {},
   "outputs": [],
   "source": [
    "void manipulate (double *value){\n",
    "    *value = 10.0;\n",
    "    cout <<\"Value in manipulate: \"<<value << endl;   \n",
    "}"
   ]
  },
  {
   "cell_type": "code",
   "execution_count": null,
   "metadata": {},
   "outputs": [],
   "source": [
    "manipulate (&value) //Because a pointer gives an address"
   ]
  },
  {
   "cell_type": "markdown",
   "metadata": {},
   "source": [
    "# Structures and Dot & Arrow Operators"
   ]
  },
  {
   "cell_type": "code",
   "execution_count": 27,
   "metadata": {},
   "outputs": [],
   "source": [
    "//Declare a structure\n",
    "struct employee\n",
    "{\n",
    "    char name[16];\n",
    "    int age;\n",
    "} emp  //\"emp\" is later how the structure will be called\n",
    ";"
   ]
  },
  {
   "cell_type": "markdown",
   "metadata": {},
   "source": [
    "El operador dot (.) se aplica al objeto actual, para referenciar al miembro individual \"name\" que pertenece a la estructura \"employee\"."
   ]
  },
  {
   "cell_type": "code",
   "execution_count": 28,
   "metadata": {},
   "outputs": [
    {
     "data": {
      "text/plain": [
       "\"Zara\""
      ]
     },
     "execution_count": 28,
     "metadata": {},
     "output_type": "execute_result"
    }
   ],
   "source": [
    "strcpy(emp.name,\"Zara\");  //La funcion \"strcpy\" copia el string \"Zara\" y lo asigna a \"name\" de la estructura"
   ]
  },
  {
   "cell_type": "markdown",
   "metadata": {},
   "source": [
    "En cambio, si usamos punteros, vamos a utilizar el operador \"arrow\" (->)"
   ]
  },
  {
   "cell_type": "code",
   "execution_count": 29,
   "metadata": {},
   "outputs": [],
   "source": [
    "employee *p_emp = new employee; //Inicializamos el puntero a estructura tipo employee (declarada arriba)"
   ]
  },
  {
   "cell_type": "code",
   "execution_count": 30,
   "metadata": {},
   "outputs": [
    {
     "data": {
      "text/plain": [
       "\"Zara\""
      ]
     },
     "execution_count": 30,
     "metadata": {},
     "output_type": "execute_result"
    }
   ],
   "source": [
    "strcpy(p_emp->name,\"Zara\"); //El uso de \"->\" es el mismo que \".\""
   ]
  },
  {
   "cell_type": "markdown",
   "metadata": {},
   "source": [
    "Other example:"
   ]
  },
  {
   "cell_type": "code",
   "execution_count": 31,
   "metadata": {},
   "outputs": [],
   "source": [
    "struct person{\n",
    "    string name;\n",
    "    int age;\n",
    "}"
   ]
  },
  {
   "cell_type": "code",
   "execution_count": 32,
   "metadata": {},
   "outputs": [],
   "source": [
    "person *bob = new person; //Inicializamos a bob, que com es tipo \"person\", va a tener \"name\" y \"age\"\n",
    "bob -> age =21;"
   ]
  }
 ],
 "metadata": {
  "kernelspec": {
   "display_name": "C++11",
   "language": "C++11",
   "name": "xcpp11"
  },
  "language_info": {
   "codemirror_mode": "text/x-c++src",
   "file_extension": ".cpp",
   "mimetype": "text/x-c++src",
   "name": "c++",
   "version": "11"
  }
 },
 "nbformat": 4,
 "nbformat_minor": 4
}
